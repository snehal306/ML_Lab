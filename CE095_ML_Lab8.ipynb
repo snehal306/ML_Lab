{
  "nbformat": 4,
  "nbformat_minor": 0,
  "metadata": {
    "colab": {
      "name": "CE095_ML_Lab8",
      "provenance": []
    },
    "kernelspec": {
      "name": "python3",
      "display_name": "Python 3"
    },
    "language_info": {
      "name": "python"
    }
  },
  "cells": [
    {
      "cell_type": "code",
      "source": [
        "import pandas as pd\n",
        "from tensorflow.keras.preprocessing.text import Tokenizer\n",
        "from tensorflow.keras.preprocessing.sequence import pad_sequences\n",
        "from sklearn.feature_extraction.text import CountVectorizer\n",
        "from sklearn.preprocessing import LabelEncoder\n",
        "\n",
        "stopwords = [ \"a\", \"about\", \"above\", \"after\", \"again\", \"against\", \"all\", \"am\",\n",
        "\"an\", \"and\", \"any\", \"are\", \"as\", \"at\", \"be\", \"because\", \"been\", \"before\",\n",
        "\"being\", \"below\", \"between\", \"both\", \"but\", \"by\", \"could\", \"did\", \"do\",\n",
        "\"does\", \"doing\", \"down\", \"during\", \"each\", \"few\", \"for\", \"from\", \"further\",\n",
        "\"had\", \"has\", \"have\", \"having\", \"he\", \"he'd\", \"he'll\", \"he's\", \"her\", \"here\",\n",
        "\"here's\", \"hers\", \"herself\", \"him\", \"himself\", \"his\", \"how\", \"how's\", \"i\",\n",
        "\"i'd\", \"i'll\", \"i'm\", \"i've\", \"if\", \"in\", \"into\", \"is\", \"it\", \"it's\", \"its\",\n",
        "\"itself\", \"let's\", \"me\", \"more\", \"most\", \"my\", \"myself\", \"nor\", \"of\", \"on\",\n",
        "\"once\", \"only\", \"or\", \"other\", \"ought\", \"our\", \"ours\", \"ourselves\", \"out\",\n",
        "\"over\", \"own\", \"same\", \"she\", \"she'd\", \"she'll\", \"she's\", \"should\", \"so\",\n",
        "\"some\", \"such\", \"than\", \"that\", \"that's\", \"the\", \"their\", \"theirs\", \"them\",\n",
        "\"themselves\", \"then\", \"there\", \"there's\", \"these\", \"they\", \"they'd\",\n",
        "\"they'll\", \"they're\", \"they've\", \"this\", \"those\", \"through\", \"to\", \"too\",\n",
        "\"under\", \"until\", \"up\", \"very\", \"was\", \"we\", \"we'd\", \"we'll\", \"we're\",\n",
        "\"we've\", \"were\", \"what\", \"what's\", \"when\", \"when's\", \"where\", \"where's\",\n",
        "\"which\", \"while\", \"who\", \"who's\", \"whom\", \"why\", \"why's\", \"with\", \"would\",\n",
        "\"you\", \"you'd\", \"you'll\", \"you're\", \"you've\", \"your\", \"yours\", \"yourself\",\n",
        "\"yourselves\" ]"
      ],
      "metadata": {
        "id": "jXAaH_yKJWn4"
      },
      "execution_count": null,
      "outputs": []
    },
    {
      "cell_type": "code",
      "source": [
        "datasets = pd.read_csv('spam1.csv')\n",
        "print(\"\\nData :\\n\",datasets)\n",
        "print(\"\\nData statistics\\n\",datasets.info())"
      ],
      "metadata": {
        "colab": {
          "base_uri": "https://localhost:8080/"
        },
        "id": "_Ei0UfxUKEqX",
        "outputId": "64d97b1d-32a9-4ecf-8734-ac8134d908ae"
      },
      "execution_count": null,
      "outputs": [
        {
          "output_type": "stream",
          "name": "stdout",
          "text": [
            "\n",
            "Data :\n",
            "        v1                                                 v2\n",
            "0    spam  Free entry in 2 a wkly comp to win FA Cup fina...\n",
            "1    spam  FreeMsg Hey there darling it's been 3 week's n...\n",
            "2    spam  WINNER!! As a valued network customer you have...\n",
            "3    spam  Had your mobile 11 months or more? U R entitle...\n",
            "4    spam  SIX chances to win CASH! From 100 to 20,000 po...\n",
            "..    ...                                                ...\n",
            "508  spam  This is the 2nd time we have tried 2 contact u...\n",
            "509   ham              Will �_ b going to esplanade fr home?\n",
            "510   ham  Pity, * was in mood for that. So...any other s...\n",
            "511   ham  The guy did some bitching but I acted like i'd...\n",
            "512   ham                         Rofl. Its true to its name\n",
            "\n",
            "[513 rows x 2 columns]\n",
            "<class 'pandas.core.frame.DataFrame'>\n",
            "RangeIndex: 513 entries, 0 to 512\n",
            "Data columns (total 2 columns):\n",
            " #   Column  Non-Null Count  Dtype \n",
            "---  ------  --------------  ----- \n",
            " 0   v1      513 non-null    object\n",
            " 1   v2      513 non-null    object\n",
            "dtypes: object(2)\n",
            "memory usage: 8.1+ KB\n",
            "\n",
            "Data statistics\n",
            " None\n"
          ]
        }
      ]
    },
    {
      "cell_type": "code",
      "source": [
        "#countvectorize\n",
        "import pandas as pd\n",
        "from tensorflow.keras.preprocessing.text import Tokenizer\n",
        "from tensorflow.keras.preprocessing.sequence import pad_sequences\n",
        "from sklearn.feature_extraction.text import CountVectorizer\n",
        "from sklearn.preprocessing import LabelEncoder\n",
        "\n",
        "stopwords = [ \"a\", \"about\", \"above\", \"after\", \"again\", \"against\", \"all\", \"am\",\n",
        "\"an\", \"and\", \"any\", \"are\", \"as\", \"at\", \"be\", \"because\", \"been\", \"before\",\n",
        "\"being\", \"below\", \"between\", \"both\", \"but\", \"by\", \"could\", \"did\", \"do\",\n",
        "\"does\", \"doing\", \"down\", \"during\", \"each\", \"few\", \"for\", \"from\", \"further\",\n",
        "\"had\", \"has\", \"have\", \"having\", \"he\", \"he'd\", \"he'll\", \"he's\", \"her\", \"here\",\n",
        "\"here's\", \"hers\", \"herself\", \"him\", \"himself\", \"his\", \"how\", \"how's\", \"i\",\n",
        "\"i'd\", \"i'll\", \"i'm\", \"i've\", \"if\", \"in\", \"into\", \"is\", \"it\", \"it's\", \"its\",\n",
        "\"itself\", \"let's\", \"me\", \"more\", \"most\", \"my\", \"myself\", \"nor\", \"of\", \"on\",\n",
        "\"once\", \"only\", \"or\", \"other\", \"ought\", \"our\", \"ours\", \"ourselves\", \"out\",\n",
        "\"over\", \"own\", \"same\", \"she\", \"she'd\", \"she'll\", \"she's\", \"should\", \"so\",\n",
        "\"some\", \"such\", \"than\", \"that\", \"that's\", \"the\", \"their\", \"theirs\", \"them\",\n",
        "\"themselves\", \"then\", \"there\", \"there's\", \"these\", \"they\", \"they'd\",\n",
        "\"they'll\", \"they're\", \"they've\", \"this\", \"those\", \"through\", \"to\", \"too\",\n",
        "\"under\", \"until\", \"up\", \"very\", \"was\", \"we\", \"we'd\", \"we'll\", \"we're\",\n",
        "\"we've\", \"were\", \"what\", \"what's\", \"when\", \"when's\", \"where\", \"where's\",\n",
        "\"which\", \"while\", \"who\", \"who's\", \"whom\", \"why\", \"why's\", \"with\", \"would\",\n",
        "\"you\", \"you'd\", \"you'll\", \"you're\", \"you've\", \"your\", \"yours\", \"yourself\",\n",
        "\"yourselves\" ]\n",
        "\n",
        "vectorizer = CountVectorizer()\n",
        "X = vectorizer.fit_transform(stopwords)\n",
        "vectorizer.get_feature_names_out()\n"
      ],
      "metadata": {
        "colab": {
          "base_uri": "https://localhost:8080/"
        },
        "id": "61FdLxWAYLND",
        "outputId": "42fe34fa-c96c-4d40-d316-8c469f0047ef"
      },
      "execution_count": null,
      "outputs": [
        {
          "output_type": "execute_result",
          "data": {
            "text/plain": [
              "array(['about', 'above', 'after', 'again', 'against', 'all', 'am', 'an',\n",
              "       'and', 'any', 'are', 'as', 'at', 'be', 'because', 'been', 'before',\n",
              "       'being', 'below', 'between', 'both', 'but', 'by', 'could', 'did',\n",
              "       'do', 'does', 'doing', 'down', 'during', 'each', 'few', 'for',\n",
              "       'from', 'further', 'had', 'has', 'have', 'having', 'he', 'her',\n",
              "       'here', 'hers', 'herself', 'him', 'himself', 'his', 'how', 'if',\n",
              "       'in', 'into', 'is', 'it', 'its', 'itself', 'let', 'll', 'me',\n",
              "       'more', 'most', 'my', 'myself', 'nor', 'of', 'on', 'once', 'only',\n",
              "       'or', 'other', 'ought', 'our', 'ours', 'ourselves', 'out', 'over',\n",
              "       'own', 're', 'same', 'she', 'should', 'so', 'some', 'such', 'than',\n",
              "       'that', 'the', 'their', 'theirs', 'them', 'themselves', 'then',\n",
              "       'there', 'these', 'they', 'this', 'those', 'through', 'to', 'too',\n",
              "       'under', 'until', 'up', 've', 'very', 'was', 'we', 'were', 'what',\n",
              "       'when', 'where', 'which', 'while', 'who', 'whom', 'why', 'with',\n",
              "       'would', 'you', 'your', 'yours', 'yourself', 'yourselves'],\n",
              "      dtype=object)"
            ]
          },
          "metadata": {},
          "execution_count": 18
        }
      ]
    },
    {
      "cell_type": "code",
      "source": [
        "print(X.toarray())"
      ],
      "metadata": {
        "colab": {
          "base_uri": "https://localhost:8080/"
        },
        "id": "sUySySsFYhy0",
        "outputId": "d0b9528b-240d-4542-e46f-787b9f48067b"
      },
      "execution_count": null,
      "outputs": [
        {
          "output_type": "stream",
          "name": "stdout",
          "text": [
            "[[0 0 0 ... 0 0 0]\n",
            " [1 0 0 ... 0 0 0]\n",
            " [0 1 0 ... 0 0 0]\n",
            " ...\n",
            " [0 0 0 ... 1 0 0]\n",
            " [0 0 0 ... 0 1 0]\n",
            " [0 0 0 ... 0 0 1]]\n"
          ]
        }
      ]
    },
    {
      "cell_type": "code",
      "source": [
        "#word2vec\n",
        "import pandas as pd\n",
        "text = pd.read_csv(\"spam1.csv\")\n",
        "text.head()"
      ],
      "metadata": {
        "colab": {
          "base_uri": "https://localhost:8080/",
          "height": 206
        },
        "id": "C23ZI50LYqL9",
        "outputId": "037a53bf-2f96-4f23-8693-d5e031220b60"
      },
      "execution_count": null,
      "outputs": [
        {
          "output_type": "execute_result",
          "data": {
            "text/html": [
              "\n",
              "  <div id=\"df-c8cec9d6-e0e4-4359-9815-f782045c5388\">\n",
              "    <div class=\"colab-df-container\">\n",
              "      <div>\n",
              "<style scoped>\n",
              "    .dataframe tbody tr th:only-of-type {\n",
              "        vertical-align: middle;\n",
              "    }\n",
              "\n",
              "    .dataframe tbody tr th {\n",
              "        vertical-align: top;\n",
              "    }\n",
              "\n",
              "    .dataframe thead th {\n",
              "        text-align: right;\n",
              "    }\n",
              "</style>\n",
              "<table border=\"1\" class=\"dataframe\">\n",
              "  <thead>\n",
              "    <tr style=\"text-align: right;\">\n",
              "      <th></th>\n",
              "      <th>v1</th>\n",
              "      <th>v2</th>\n",
              "    </tr>\n",
              "  </thead>\n",
              "  <tbody>\n",
              "    <tr>\n",
              "      <th>0</th>\n",
              "      <td>spam</td>\n",
              "      <td>Free entry in 2 a wkly comp to win FA Cup fina...</td>\n",
              "    </tr>\n",
              "    <tr>\n",
              "      <th>1</th>\n",
              "      <td>spam</td>\n",
              "      <td>FreeMsg Hey there darling it's been 3 week's n...</td>\n",
              "    </tr>\n",
              "    <tr>\n",
              "      <th>2</th>\n",
              "      <td>spam</td>\n",
              "      <td>WINNER!! As a valued network customer you have...</td>\n",
              "    </tr>\n",
              "    <tr>\n",
              "      <th>3</th>\n",
              "      <td>spam</td>\n",
              "      <td>Had your mobile 11 months or more? U R entitle...</td>\n",
              "    </tr>\n",
              "    <tr>\n",
              "      <th>4</th>\n",
              "      <td>spam</td>\n",
              "      <td>SIX chances to win CASH! From 100 to 20,000 po...</td>\n",
              "    </tr>\n",
              "  </tbody>\n",
              "</table>\n",
              "</div>\n",
              "      <button class=\"colab-df-convert\" onclick=\"convertToInteractive('df-c8cec9d6-e0e4-4359-9815-f782045c5388')\"\n",
              "              title=\"Convert this dataframe to an interactive table.\"\n",
              "              style=\"display:none;\">\n",
              "        \n",
              "  <svg xmlns=\"http://www.w3.org/2000/svg\" height=\"24px\"viewBox=\"0 0 24 24\"\n",
              "       width=\"24px\">\n",
              "    <path d=\"M0 0h24v24H0V0z\" fill=\"none\"/>\n",
              "    <path d=\"M18.56 5.44l.94 2.06.94-2.06 2.06-.94-2.06-.94-.94-2.06-.94 2.06-2.06.94zm-11 1L8.5 8.5l.94-2.06 2.06-.94-2.06-.94L8.5 2.5l-.94 2.06-2.06.94zm10 10l.94 2.06.94-2.06 2.06-.94-2.06-.94-.94-2.06-.94 2.06-2.06.94z\"/><path d=\"M17.41 7.96l-1.37-1.37c-.4-.4-.92-.59-1.43-.59-.52 0-1.04.2-1.43.59L10.3 9.45l-7.72 7.72c-.78.78-.78 2.05 0 2.83L4 21.41c.39.39.9.59 1.41.59.51 0 1.02-.2 1.41-.59l7.78-7.78 2.81-2.81c.8-.78.8-2.07 0-2.86zM5.41 20L4 18.59l7.72-7.72 1.47 1.35L5.41 20z\"/>\n",
              "  </svg>\n",
              "      </button>\n",
              "      \n",
              "  <style>\n",
              "    .colab-df-container {\n",
              "      display:flex;\n",
              "      flex-wrap:wrap;\n",
              "      gap: 12px;\n",
              "    }\n",
              "\n",
              "    .colab-df-convert {\n",
              "      background-color: #E8F0FE;\n",
              "      border: none;\n",
              "      border-radius: 50%;\n",
              "      cursor: pointer;\n",
              "      display: none;\n",
              "      fill: #1967D2;\n",
              "      height: 32px;\n",
              "      padding: 0 0 0 0;\n",
              "      width: 32px;\n",
              "    }\n",
              "\n",
              "    .colab-df-convert:hover {\n",
              "      background-color: #E2EBFA;\n",
              "      box-shadow: 0px 1px 2px rgba(60, 64, 67, 0.3), 0px 1px 3px 1px rgba(60, 64, 67, 0.15);\n",
              "      fill: #174EA6;\n",
              "    }\n",
              "\n",
              "    [theme=dark] .colab-df-convert {\n",
              "      background-color: #3B4455;\n",
              "      fill: #D2E3FC;\n",
              "    }\n",
              "\n",
              "    [theme=dark] .colab-df-convert:hover {\n",
              "      background-color: #434B5C;\n",
              "      box-shadow: 0px 1px 3px 1px rgba(0, 0, 0, 0.15);\n",
              "      filter: drop-shadow(0px 1px 2px rgba(0, 0, 0, 0.3));\n",
              "      fill: #FFFFFF;\n",
              "    }\n",
              "  </style>\n",
              "\n",
              "      <script>\n",
              "        const buttonEl =\n",
              "          document.querySelector('#df-c8cec9d6-e0e4-4359-9815-f782045c5388 button.colab-df-convert');\n",
              "        buttonEl.style.display =\n",
              "          google.colab.kernel.accessAllowed ? 'block' : 'none';\n",
              "\n",
              "        async function convertToInteractive(key) {\n",
              "          const element = document.querySelector('#df-c8cec9d6-e0e4-4359-9815-f782045c5388');\n",
              "          const dataTable =\n",
              "            await google.colab.kernel.invokeFunction('convertToInteractive',\n",
              "                                                     [key], {});\n",
              "          if (!dataTable) return;\n",
              "\n",
              "          const docLinkHtml = 'Like what you see? Visit the ' +\n",
              "            '<a target=\"_blank\" href=https://colab.research.google.com/notebooks/data_table.ipynb>data table notebook</a>'\n",
              "            + ' to learn more about interactive tables.';\n",
              "          element.innerHTML = '';\n",
              "          dataTable['output_type'] = 'display_data';\n",
              "          await google.colab.output.renderOutput(dataTable, element);\n",
              "          const docLink = document.createElement('div');\n",
              "          docLink.innerHTML = docLinkHtml;\n",
              "          element.appendChild(docLink);\n",
              "        }\n",
              "      </script>\n",
              "    </div>\n",
              "  </div>\n",
              "  "
            ],
            "text/plain": [
              "     v1                                                 v2\n",
              "0  spam  Free entry in 2 a wkly comp to win FA Cup fina...\n",
              "1  spam  FreeMsg Hey there darling it's been 3 week's n...\n",
              "2  spam  WINNER!! As a valued network customer you have...\n",
              "3  spam  Had your mobile 11 months or more? U R entitle...\n",
              "4  spam  SIX chances to win CASH! From 100 to 20,000 po..."
            ]
          },
          "metadata": {},
          "execution_count": 20
        }
      ]
    },
    {
      "cell_type": "code",
      "source": [
        "text.shape"
      ],
      "metadata": {
        "colab": {
          "base_uri": "https://localhost:8080/"
        },
        "id": "2kbTGUTHaFsa",
        "outputId": "870ef2a1-1bd6-465f-e0dc-1bf89f614f20"
      },
      "execution_count": null,
      "outputs": [
        {
          "output_type": "execute_result",
          "data": {
            "text/plain": [
              "(513, 2)"
            ]
          },
          "metadata": {},
          "execution_count": 22
        }
      ]
    },
    {
      "cell_type": "code",
      "source": [
        "#training of word2vec\n",
        "def read_questions(row,column_name):\n",
        "    return gensim.utils.simple_preprocess(str(row[column_name]).encode('utf-8'))\n",
        "    \n",
        "documents = []\n",
        "for index, row in text.iterrows():\n",
        "    documents.append(read_questions(row,\"v1\"))\n",
        "    if row[\"v1\"] == \"spam\":\n",
        "        documents.append(read_questions(row,\"v2\"))\n",
        "\n",
        "print(\"List of lists. Let's confirm: \", type(documents), \" of \", type(documents[0]))"
      ],
      "metadata": {
        "colab": {
          "base_uri": "https://localhost:8080/"
        },
        "id": "sNjg6LgjaIkZ",
        "outputId": "9690d920-8acc-4c28-a076-b14daf49b300"
      },
      "execution_count": null,
      "outputs": [
        {
          "output_type": "stream",
          "name": "stdout",
          "text": [
            "List of lists. Let's confirm:  <class 'list'>  of  <class 'list'>\n"
          ]
        }
      ]
    },
    {
      "cell_type": "code",
      "source": [
        "#Model\n",
        "model = gensim.models.Word2Vec(size=150, window=10, min_count=2, sg=1, workers=10)\n",
        "model.build_vocab(documents)"
      ],
      "metadata": {
        "id": "nDEPPvQqbWcF"
      },
      "execution_count": null,
      "outputs": []
    },
    {
      "cell_type": "code",
      "source": [
        "#https://www.kaggle.com/liananapalkova/simply-about-word2vec\n",
        "word_vectors = model.wv\n",
        "count = 0\n",
        "for word in word_vectors.vocab:\n",
        "    if count<100:\n",
        "        print(word)\n",
        "        count += 1\n",
        "    else:\n",
        "        break"
      ],
      "metadata": {
        "colab": {
          "base_uri": "https://localhost:8080/"
        },
        "id": "GXVWP5ylbrQv",
        "outputId": "14537f6f-a821-4cf0-a59b-440cf457d452"
      },
      "execution_count": null,
      "outputs": [
        {
          "output_type": "stream",
          "name": "stdout",
          "text": [
            "spam\n",
            "free\n",
            "entry\n",
            "in\n",
            "wkly\n",
            "to\n",
            "win\n",
            "fa\n",
            "final\n",
            "st\n",
            "may\n",
            "text\n",
            "receive\n",
            "std\n",
            "txt\n",
            "rate\n",
            "apply\n",
            "over\n",
            "freemsg\n",
            "hey\n",
            "there\n",
            "it\n",
            "been\n",
            "week\n",
            "now\n",
            "and\n",
            "no\n",
            "word\n",
            "back\n",
            "like\n",
            "some\n",
            "you\n",
            "up\n",
            "for\n",
            "still\n",
            "send\n",
            "rcv\n",
            "winner\n",
            "as\n",
            "valued\n",
            "network\n",
            "customer\n",
            "have\n",
            "selected\n",
            "prize\n",
            "reward\n",
            "claim\n",
            "call\n",
            "code\n",
            "valid\n",
            "hours\n",
            "only\n",
            "had\n",
            "your\n",
            "mobile\n",
            "months\n",
            "or\n",
            "more\n",
            "entitled\n",
            "update\n",
            "the\n",
            "latest\n",
            "colour\n",
            "mobiles\n",
            "with\n",
            "camera\n",
            "co\n",
            "on\n",
            "cash\n",
            "from\n",
            "pounds\n",
            "cost\n",
            "day\n",
            "days\n",
            "reply\n",
            "hl\n",
            "info\n",
            "urgent\n",
            "won\n",
            "our\n",
            "www\n",
            "net\n",
            "pobox\n",
            "ldnw\n",
            "use\n",
            "credit\n",
            "click\n",
            "wap\n",
            "next\n",
            "message\n",
            "here\n",
            "http\n",
            "com\n",
            "england\n",
            "dont\n",
            "miss\n",
            "team\n",
            "news\n",
            "ur\n",
            "national\n"
          ]
        }
      ]
    },
    {
      "cell_type": "code",
      "source": [
        "#len(word_vectors.vocab)"
      ],
      "metadata": {
        "colab": {
          "base_uri": "https://localhost:8080/"
        },
        "id": "5c2g3rrDbzo5",
        "outputId": "1156a214-f8b4-4a5c-d396-89c8a3d27eff"
      },
      "execution_count": null,
      "outputs": [
        {
          "output_type": "execute_result",
          "data": {
            "text/plain": [
              "456"
            ]
          },
          "metadata": {},
          "execution_count": 29
        }
      ]
    },
    {
      "cell_type": "code",
      "source": [
        "vector = model.wv[\"winner\"]  # numpy vector of a word\n",
        "len(vector)"
      ],
      "metadata": {
        "colab": {
          "base_uri": "https://localhost:8080/"
        },
        "id": "3U9-Z190b5Fs",
        "outputId": "e323b617-bc56-45b1-b2f4-2aab3277329e"
      },
      "execution_count": null,
      "outputs": [
        {
          "output_type": "execute_result",
          "data": {
            "text/plain": [
              "150"
            ]
          },
          "metadata": {},
          "execution_count": 32
        }
      ]
    },
    {
      "cell_type": "code",
      "source": [
        "vector"
      ],
      "metadata": {
        "colab": {
          "base_uri": "https://localhost:8080/"
        },
        "id": "RCYljhWGcNhs",
        "outputId": "df2a52db-61ed-43c9-8250-e1f9096f42fd"
      },
      "execution_count": null,
      "outputs": [
        {
          "output_type": "execute_result",
          "data": {
            "text/plain": [
              "array([-1.74004922e-03,  6.00271451e-04, -1.91789994e-03,  7.70832048e-05,\n",
              "        2.82981014e-03,  3.14237061e-03,  2.83970148e-03,  1.49565958e-03,\n",
              "        2.17910437e-03, -3.20627261e-03, -1.67783210e-03,  3.07011884e-04,\n",
              "        1.56475673e-03,  1.23050448e-03, -1.30691833e-03, -1.55356736e-03,\n",
              "       -1.30852300e-03, -1.85910275e-03, -2.69867154e-03, -2.93108495e-03,\n",
              "        1.93830731e-03, -6.93922455e-04,  1.96084986e-03,  4.00967605e-04,\n",
              "        1.11179492e-04,  8.75461381e-04,  2.90030241e-03, -1.57734030e-03,\n",
              "       -1.53996050e-03,  1.57142829e-04,  1.26454819e-04, -2.79701268e-03,\n",
              "        7.94840045e-04, -9.92553076e-04, -1.12338329e-03, -2.67451955e-03,\n",
              "        2.66563636e-03,  1.76440444e-04, -4.08950204e-04, -2.89968424e-03,\n",
              "        3.02684400e-03, -1.41663896e-03,  2.44922074e-03,  2.59450264e-03,\n",
              "        3.28783831e-03,  1.10167253e-03, -1.23677251e-03,  1.14887289e-03,\n",
              "       -1.45025237e-03,  1.40918652e-03, -2.52112135e-04, -1.94024795e-03,\n",
              "       -6.74738330e-05, -6.33206102e-04,  3.13499477e-03,  9.22584499e-04,\n",
              "        3.17570125e-03,  3.32592544e-03, -2.08197138e-03, -5.03533462e-04,\n",
              "       -1.87430182e-03, -1.63806032e-03, -2.05370504e-03, -3.04571469e-03,\n",
              "       -3.18978471e-03, -2.62143882e-03, -1.41267315e-03,  3.79614707e-04,\n",
              "        1.48605800e-03,  8.77071288e-04,  8.40354245e-04,  1.25539862e-03,\n",
              "       -2.90630735e-03,  1.71266682e-03,  2.65740417e-03,  6.55862154e-04,\n",
              "       -7.24749290e-04, -1.16549747e-03,  2.15825625e-03,  2.53521604e-03,\n",
              "       -4.56159411e-04,  1.81371567e-03,  2.82011298e-03,  1.19151175e-03,\n",
              "       -1.21368305e-03,  4.38047748e-04, -1.31043512e-03, -1.51351804e-03,\n",
              "       -2.56776996e-03,  2.03537336e-03, -2.44872761e-03, -2.84381420e-03,\n",
              "       -2.40961765e-03, -4.30094107e-04, -2.92176125e-03,  2.26198463e-03,\n",
              "        2.92304816e-04,  2.83281622e-03, -5.25895157e-04,  7.71100982e-04,\n",
              "       -6.56361750e-04,  3.06582754e-03,  1.08267111e-03, -4.19171774e-05,\n",
              "        1.02735336e-04, -1.85438304e-03, -3.85143096e-04, -2.76535796e-03,\n",
              "       -6.38746540e-04, -1.93339380e-04,  2.39250204e-03,  1.18636945e-03,\n",
              "        4.61938849e-04, -3.20361811e-03,  2.70832796e-03, -1.72751548e-04,\n",
              "       -2.35721865e-03, -2.54491344e-03, -3.25644360e-04, -1.25258951e-03,\n",
              "       -2.67214957e-03,  3.14541487e-03,  7.52320339e-05,  7.80706294e-04,\n",
              "       -1.42987969e-03, -5.91983844e-04,  1.45475182e-03, -2.00792495e-03,\n",
              "        3.36685625e-04,  1.24405767e-03, -7.92854757e-04,  4.98361129e-04,\n",
              "       -1.20507076e-03,  1.45801099e-03,  2.28689634e-03,  2.79041426e-03,\n",
              "       -2.56079319e-03, -2.59204564e-04, -1.09989801e-03, -2.06250302e-03,\n",
              "       -1.56293041e-03,  8.85719492e-04,  2.52005807e-03, -2.30555725e-03,\n",
              "        2.06300383e-03, -1.12618832e-03,  1.58255734e-03, -1.45883160e-03,\n",
              "        1.56027905e-03, -1.07388850e-03], dtype=float32)"
            ]
          },
          "metadata": {},
          "execution_count": 33
        }
      ]
    }
  ]
}