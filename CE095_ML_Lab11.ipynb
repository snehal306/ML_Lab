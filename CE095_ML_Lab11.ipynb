{
  "nbformat": 4,
  "nbformat_minor": 0,
  "metadata": {
    "colab": {
      "name": "CE095_ML_Lab11",
      "provenance": [],
      "collapsed_sections": []
    },
    "kernelspec": {
      "name": "python3",
      "display_name": "Python 3"
    },
    "language_info": {
      "name": "python"
    }
  },
  "cells": [
    {
      "cell_type": "code",
      "execution_count": null,
      "metadata": {
        "id": "FpcVdCPie6mB"
      },
      "outputs": [],
      "source": [
        "import sys,os\n",
        "import matplotlib.pyplot as plt\n",
        "from sklearn import svm,metrics\n",
        "from sklearn.model_selection import train_test_split\n",
        "import numpy as np\n",
        "from sklearn.datasets import load_digits"
      ]
    },
    {
      "cell_type": "code",
      "source": [
        "digits = load_digits()\n",
        "digits.data.shape"
      ],
      "metadata": {
        "colab": {
          "base_uri": "https://localhost:8080/"
        },
        "id": "dN7MMvkosMyq",
        "outputId": "b53d1c21-401e-4cf6-8b7e-efe3faf063d4"
      },
      "execution_count": null,
      "outputs": [
        {
          "output_type": "execute_result",
          "data": {
            "text/plain": [
              "(1797, 64)"
            ]
          },
          "metadata": {},
          "execution_count": 13
        }
      ]
    },
    {
      "cell_type": "code",
      "source": [
        "print(digits.target)"
      ],
      "metadata": {
        "colab": {
          "base_uri": "https://localhost:8080/"
        },
        "id": "DKx4coDYsNxY",
        "outputId": "82793442-b61a-4032-ca4f-52ec905b3ee3"
      },
      "execution_count": null,
      "outputs": [
        {
          "output_type": "stream",
          "name": "stdout",
          "text": [
            "[0 1 2 ... 8 9 8]\n"
          ]
        }
      ]
    },
    {
      "cell_type": "code",
      "source": [
        "X_train, X_test, y_train, y_test = train_test_split(digits.data, digits.target, test_size = 0.2 ,random_state = 116)"
      ],
      "metadata": {
        "id": "8FzQlrBwsRMP"
      },
      "execution_count": null,
      "outputs": []
    },
    {
      "cell_type": "markdown",
      "source": [
        "**LINEAR SVM CLASSIFIER**"
      ],
      "metadata": {
        "id": "Yx4KBR6LsZL1"
      }
    },
    {
      "cell_type": "code",
      "source": [
        "lsc = svm.SVC(kernel='linear')"
      ],
      "metadata": {
        "id": "yOZJUFUQsXOo"
      },
      "execution_count": null,
      "outputs": []
    },
    {
      "cell_type": "code",
      "source": [
        "#Train Classifier\n",
        "lsc.fit(X_train, y_train)"
      ],
      "metadata": {
        "colab": {
          "base_uri": "https://localhost:8080/"
        },
        "id": "nPp93T_vsfUe",
        "outputId": "cc04ba1e-df8e-4671-9d8d-ad982372d9a1"
      },
      "execution_count": null,
      "outputs": [
        {
          "output_type": "execute_result",
          "data": {
            "text/plain": [
              "SVC(kernel='linear')"
            ]
          },
          "metadata": {},
          "execution_count": 17
        }
      ]
    },
    {
      "cell_type": "code",
      "source": [
        "lin_y_pred = lsc.predict(X_test)"
      ],
      "metadata": {
        "id": "4osqvp_cskVO"
      },
      "execution_count": null,
      "outputs": []
    },
    {
      "cell_type": "code",
      "source": [
        "print(\"Accuracy:\", metrics.accuracy_score(y_test, lin_y_pred))"
      ],
      "metadata": {
        "colab": {
          "base_uri": "https://localhost:8080/"
        },
        "id": "Xpd-GDfusvvK",
        "outputId": "1b23c02b-5992-4203-9abd-af473e2c1554"
      },
      "execution_count": null,
      "outputs": [
        {
          "output_type": "stream",
          "name": "stdout",
          "text": [
            "Accuracy: 0.9833333333333333\n"
          ]
        }
      ]
    },
    {
      "cell_type": "markdown",
      "source": [
        "**RBF SVM CLASSIFIER**"
      ],
      "metadata": {
        "id": "htnRnBSws_vc"
      }
    },
    {
      "cell_type": "code",
      "source": [
        "rbf_svm = svm.SVC(kernel='rbf')"
      ],
      "metadata": {
        "id": "997vmWhts9Yu"
      },
      "execution_count": null,
      "outputs": []
    },
    {
      "cell_type": "code",
      "source": [
        "#Train Classifier\n",
        "rbf_svm.fit(X_train, y_train)"
      ],
      "metadata": {
        "colab": {
          "base_uri": "https://localhost:8080/"
        },
        "id": "36p54a9ltHhs",
        "outputId": "e9bf7ba8-3441-4116-9c10-036bef3525d8"
      },
      "execution_count": null,
      "outputs": [
        {
          "output_type": "execute_result",
          "data": {
            "text/plain": [
              "SVC()"
            ]
          },
          "metadata": {},
          "execution_count": 21
        }
      ]
    },
    {
      "cell_type": "code",
      "source": [
        "rbf_y_pred = rbf_svm.predict(X_test)"
      ],
      "metadata": {
        "id": "rjQnbImStKLz"
      },
      "execution_count": null,
      "outputs": []
    },
    {
      "cell_type": "code",
      "source": [
        "print(\"Accuracy:\", metrics.accuracy_score(y_test, rbf_y_pred))"
      ],
      "metadata": {
        "colab": {
          "base_uri": "https://localhost:8080/"
        },
        "id": "dy19EDkptNgv",
        "outputId": "ef816ec4-4efe-49d6-b011-4987db2ff002"
      },
      "execution_count": null,
      "outputs": [
        {
          "output_type": "stream",
          "name": "stdout",
          "text": [
            "Accuracy: 0.9777777777777777\n"
          ]
        }
      ]
    },
    {
      "cell_type": "markdown",
      "source": [
        "**POLYNOMAIL SVM CLASSIFIER**"
      ],
      "metadata": {
        "id": "-RI7R7-qtUSV"
      }
    },
    {
      "cell_type": "code",
      "source": [
        "p_svm = svm.SVC(kernel='poly')"
      ],
      "metadata": {
        "id": "nqJE6MEgtRWm"
      },
      "execution_count": null,
      "outputs": []
    },
    {
      "cell_type": "code",
      "source": [
        "p_svm.fit(X_train, y_train)"
      ],
      "metadata": {
        "colab": {
          "base_uri": "https://localhost:8080/"
        },
        "id": "OCbvEtx4taLg",
        "outputId": "e230ea17-f048-4c83-88e2-8500c265adc7"
      },
      "execution_count": null,
      "outputs": [
        {
          "output_type": "execute_result",
          "data": {
            "text/plain": [
              "SVC(kernel='poly')"
            ]
          },
          "metadata": {},
          "execution_count": 25
        }
      ]
    },
    {
      "cell_type": "code",
      "source": [
        "poly_y_pred = p_svm.predict(X_test)"
      ],
      "metadata": {
        "id": "V0bl8EeFtcW5"
      },
      "execution_count": null,
      "outputs": []
    },
    {
      "cell_type": "code",
      "source": [
        "print(\"Accuracy:\", metrics.accuracy_score(y_test, poly_y_pred))"
      ],
      "metadata": {
        "colab": {
          "base_uri": "https://localhost:8080/"
        },
        "id": "YqEFN3Mqtflc",
        "outputId": "471a6832-d231-42bd-f9ef-441c98153b73"
      },
      "execution_count": null,
      "outputs": [
        {
          "output_type": "stream",
          "name": "stdout",
          "text": [
            "Accuracy: 0.9888888888888889\n"
          ]
        }
      ]
    }
  ]
}